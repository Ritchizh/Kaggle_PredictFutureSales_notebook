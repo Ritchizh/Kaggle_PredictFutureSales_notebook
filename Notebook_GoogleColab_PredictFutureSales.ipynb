{
  "nbformat": 4,
  "nbformat_minor": 0,
  "metadata": {
    "colab": {
      "name": "PredictFutureSales_10__submit_clear.ipynb",
      "provenance": [],
      "collapsed_sections": [],
      "machine_shape": "hm"
    },
    "kernelspec": {
      "name": "python3",
      "display_name": "Python 3"
    },
    "accelerator": "GPU"
  },
  "cells": [
    {
      "cell_type": "code",
      "metadata": {
        "id": "eEqfPZgAHg6a",
        "colab_type": "code",
        "colab": {}
      },
      "source": [
        "##   ~~~ REQUIREMENTS: ~~~\n",
        "\n",
        "# This notebook was created and run in Google Colab (https://colab.research.google.com).\n",
        "# Runtime type was set to GPU. \n",
        "\n",
        "# This notebook is ready to run. \n",
        "# All computation as it is (with loaded models) takes ~ 4 minutes 46 seconds."
      ],
      "execution_count": 0,
      "outputs": []
    },
    {
      "cell_type": "code",
      "metadata": {
        "id": "EynzkPb9kdxD",
        "colab_type": "code",
        "outputId": "36a75bce-2f8b-49e5-9eb0-fbb7fa980159",
        "colab": {
          "base_uri": "https://localhost:8080/",
          "height": 457
        }
      },
      "source": [
        "## Imports:\n",
        "\n",
        "import numpy                   as np\n",
        "import pandas                  as pd\n",
        "\n",
        "from   itertools               import product\n",
        "from   time                    import time\n",
        "\n",
        "!pip install catboost\n",
        "import catboost\n",
        "from   catboost                import CatBoostRegressor, Pool\n",
        "\n",
        "import sklearn\n",
        "from   sklearn.preprocessing   import LabelEncoder\n",
        "from   sklearn.model_selection import KFold\n",
        "from   sklearn.linear_model    import LinearRegression\n",
        "\n",
        "import joblib\n",
        "from   google.colab            import files\n",
        "\n",
        "\n",
        "# Print your packages versions:\n",
        "print('\\nImported packages:')\n",
        "for p in [np, pd, catboost, sklearn]:\n",
        "    print (p.__name__, p.__version__)"
      ],
      "execution_count": 2,
      "outputs": [
        {
          "output_type": "stream",
          "text": [
            "Collecting catboost\n",
            "\u001b[?25l  Downloading https://files.pythonhosted.org/packages/14/14/35b211f9b1c779faba8061b696760f6da743a15d7b215cd6babb211ced0c/catboost-0.18-cp36-none-manylinux1_x86_64.whl (62.9MB)\n",
            "\u001b[K     |████████████████████████████████| 62.9MB 5.6MB/s \n",
            "\u001b[?25hRequirement already satisfied: numpy>=1.16.0 in /usr/local/lib/python3.6/dist-packages (from catboost) (1.17.3)\n",
            "Requirement already satisfied: pandas>=0.24.0 in /usr/local/lib/python3.6/dist-packages (from catboost) (0.25.2)\n",
            "Requirement already satisfied: plotly in /usr/local/lib/python3.6/dist-packages (from catboost) (4.1.1)\n",
            "Requirement already satisfied: scipy in /usr/local/lib/python3.6/dist-packages (from catboost) (1.3.1)\n",
            "Requirement already satisfied: six in /usr/local/lib/python3.6/dist-packages (from catboost) (1.12.0)\n",
            "Requirement already satisfied: graphviz in /usr/local/lib/python3.6/dist-packages (from catboost) (0.10.1)\n",
            "Requirement already satisfied: matplotlib in /usr/local/lib/python3.6/dist-packages (from catboost) (3.1.1)\n",
            "Requirement already satisfied: pytz>=2017.2 in /usr/local/lib/python3.6/dist-packages (from pandas>=0.24.0->catboost) (2018.9)\n",
            "Requirement already satisfied: python-dateutil>=2.6.1 in /usr/local/lib/python3.6/dist-packages (from pandas>=0.24.0->catboost) (2.6.1)\n",
            "Requirement already satisfied: retrying>=1.3.3 in /usr/local/lib/python3.6/dist-packages (from plotly->catboost) (1.3.3)\n",
            "Requirement already satisfied: kiwisolver>=1.0.1 in /usr/local/lib/python3.6/dist-packages (from matplotlib->catboost) (1.1.0)\n",
            "Requirement already satisfied: cycler>=0.10 in /usr/local/lib/python3.6/dist-packages (from matplotlib->catboost) (0.10.0)\n",
            "Requirement already satisfied: pyparsing!=2.0.4,!=2.1.2,!=2.1.6,>=2.0.1 in /usr/local/lib/python3.6/dist-packages (from matplotlib->catboost) (2.4.2)\n",
            "Requirement already satisfied: setuptools in /usr/local/lib/python3.6/dist-packages (from kiwisolver>=1.0.1->matplotlib->catboost) (41.4.0)\n",
            "Installing collected packages: catboost\n",
            "Successfully installed catboost-0.18\n",
            "\n",
            "Imported packages:\n",
            "numpy 1.17.3\n",
            "pandas 0.25.2\n",
            "catboost 0.18\n",
            "sklearn 0.21.3\n"
          ],
          "name": "stdout"
        }
      ]
    },
    {
      "cell_type": "code",
      "metadata": {
        "id": "dBvkDZ95JH2V",
        "colab_type": "code",
        "colab": {}
      },
      "source": [
        "## Packages versions should be:\n",
        "# numpy 1.17.3\n",
        "# pandas 0.25.2\n",
        "# catboost 0.18\n",
        "# sklearn 0.21.3"
      ],
      "execution_count": 0,
      "outputs": []
    },
    {
      "cell_type": "code",
      "metadata": {
        "id": "zbAGPW3KkDr-",
        "colab_type": "code",
        "outputId": "4d8ea59c-bf6c-4ba2-d6a3-5b59a524203d",
        "colab": {
          "base_uri": "https://localhost:8080/",
          "height": 79
        }
      },
      "source": [
        "# Check if GPU is available:   (should output True and some Warning about Tensorflow upgrade)\n",
        "import tensorflow as tf\n",
        "tf.test.is_gpu_available()"
      ],
      "execution_count": 4,
      "outputs": [
        {
          "output_type": "display_data",
          "data": {
            "text/html": [
              "<p style=\"color: red;\">\n",
              "The default version of TensorFlow in Colab will soon switch to TensorFlow 2.x.<br>\n",
              "We recommend you <a href=\"https://www.tensorflow.org/guide/migrate\" target=\"_blank\">upgrade</a> now \n",
              "or ensure your notebook will continue to use TensorFlow 1.x via the <code>%tensorflow_version 1.x</code> magic:\n",
              "<a href=\"https://colab.research.google.com/notebooks/tensorflow_version.ipynb\" target=\"_blank\">more info</a>.</p>\n"
            ],
            "text/plain": [
              "<IPython.core.display.HTML object>"
            ]
          },
          "metadata": {
            "tags": []
          }
        },
        {
          "output_type": "execute_result",
          "data": {
            "text/plain": [
              "True"
            ]
          },
          "metadata": {
            "tags": []
          },
          "execution_count": 4
        }
      ]
    },
    {
      "cell_type": "code",
      "metadata": {
        "id": "jGA8RUdQUYbx",
        "colab_type": "code",
        "colab": {}
      },
      "source": [
        "##                 ~~~~***~~ LOAD DATA ~~***~~~~\n",
        "##==============================================================================\n",
        "    \n",
        "train           = pd.read_csv('https://raw.githubusercontent.com/Ritchizh/PredictFutureSales_notebook/master/Raw_Data/sales_train.csv.gz')\n",
        "test            = pd.read_csv('https://raw.githubusercontent.com/Ritchizh/PredictFutureSales_notebook/master/Raw_Data/test.csv.gz')\n",
        "items           = pd.read_csv('https://raw.githubusercontent.com/Ritchizh/PredictFutureSales_notebook/master/Raw_Data/items.csv')\n",
        "cats            = pd.read_csv('https://raw.githubusercontent.com/Ritchizh/PredictFutureSales_notebook/master/Raw_Data/item_categories.csv')\n",
        "shops           = pd.read_csv('https://raw.githubusercontent.com/Ritchizh/PredictFutureSales_notebook/master/Raw_Data/shops.csv')\n",
        "sample_submission = pd.read_csv('https://raw.githubusercontent.com/Ritchizh/PredictFutureSales_notebook/master/Raw_Data/sample_submission.csv.gz')"
      ],
      "execution_count": 0,
      "outputs": []
    },
    {
      "cell_type": "code",
      "metadata": {
        "id": "Xp6CIwNZMlr3",
        "colab_type": "code",
        "colab": {}
      },
      "source": [
        "##              ~~~~***~~ DATA EDA AND PREPROCESSING ~~***~~~~\n",
        "##==============================================================================\n",
        "# Remove outliers:\n",
        "\n",
        "train = train[train.item_price<100000]\n",
        "train = train[train.item_cnt_day<1001]\n",
        "\n",
        "##==============================================================================\n",
        "# Fill negative item price with median value:\n",
        "\n",
        "median = train[(train.shop_id==32)&(train.item_id==2973)&(train.date_block_num==4)&(train.item_price>0)].item_price.median()\n",
        "train.loc[train.item_price<0, 'item_price'] = median\n",
        "\n",
        "##==============================================================================\n",
        "# Several shops are duplicates of each other.\n",
        "\n",
        "train.loc[train.shop_id == 0, 'shop_id'] = 57\n",
        "test.loc[test.shop_id == 0, 'shop_id'] = 57\n",
        "\n",
        "train.loc[train.shop_id == 1, 'shop_id'] = 58\n",
        "test.loc[test.shop_id == 1, 'shop_id'] = 58\n",
        "\n",
        "train.loc[train.shop_id == 10, 'shop_id'] = 11\n",
        "test.loc[test.shop_id == 10, 'shop_id'] = 11\n",
        "\n",
        "##==============================================================================\n",
        "# Shops/Cats/Items preprocessing:\n",
        "\n",
        "\n",
        "# Includes simple feature extraction from text - extracting subtypes from splitted strings.\n",
        "\n",
        "\n",
        "# Each shop_name starts with the city name. Replace shop_names with city_codes (label encoding).\n",
        "# Each category contains type and subtype in its name. Replace category_names with cat and subcat codes.\n",
        "\n",
        "\n",
        "shops.loc[shops.shop_name == 'Сергиев Посад ТЦ \"7Я\"', 'shop_name'] = 'СергиевПосад ТЦ \"7Я\"'\n",
        "shops['city'] = shops['shop_name'].str.split(' ').map(lambda x: x[0])\n",
        "shops.loc[shops.city == '!Якутск', 'city'] = 'Якутск'\n",
        "shops['city_code'] = LabelEncoder().fit_transform(shops['city'])\n",
        "shops = shops[['shop_id','city_code']]\n",
        "\n",
        "cats['split']        = cats['item_category_name'].str.split('-')\n",
        "cats['type']         = cats['split'].map(lambda x: x[0].strip())\n",
        "cats['type_code']    = LabelEncoder().fit_transform(cats['type'])\n",
        "cats['subtype']      = cats['split'].map(lambda x: x[1].strip() if len(x) > 1 else x[0].strip())\n",
        "cats['subtype_code'] = LabelEncoder().fit_transform(cats['subtype'])\n",
        "cats = cats[['item_category_id','type_code', 'subtype_code']]\n",
        "\n",
        "items.drop(['item_name'], axis=1, inplace=True)"
      ],
      "execution_count": 0,
      "outputs": []
    },
    {
      "cell_type": "code",
      "metadata": {
        "id": "jP4vBV8qNM8-",
        "colab_type": "code",
        "colab": {}
      },
      "source": [
        "## Reformat to TRAINTEST - to make Train set similar to Test set.\n",
        "# This involves forming a grid of unique pairs of ('shop_id','item_id) for each month and\n",
        "# filling zeros for unknown sales.\n",
        "\n",
        "##==============================================================================\n",
        "\n",
        "# Add TRAIN pairs to TRAINTEST:\n",
        "\n",
        "traintest = []\n",
        "for i in range(34):\n",
        "    sales = train[train.date_block_num==i]\n",
        "    traintest.append(np.array(list(product([i], sales.shop_id.unique(), sales.item_id.unique()))  ))\n",
        "# 'itertools.product' is equivalent to nested for-loops. \n",
        "# For example, product(A, B) returns the same as ((x,y) for x in A for y in B)\n",
        "\n",
        "cols   = ['date_block_num','shop_id','item_id']\n",
        "traintest = pd.DataFrame(np.vstack(traintest), columns=cols)\n",
        "\n",
        "# Specifying data types to make it more compact:\n",
        "traintest['date_block_num'] = traintest['date_block_num'].astype(np.int8)\n",
        "traintest['shop_id']        = traintest['shop_id'].astype(np.int8)\n",
        "traintest['item_id']        = traintest['item_id'].astype(np.int16)\n",
        "\n",
        "traintest.sort_values(cols,inplace=True)\n",
        "\n",
        "\n",
        "# Form aggregated TARGET values with sum[cnt] for each month, shop, item:\n",
        "group = train.groupby(['date_block_num','shop_id','item_id']).agg({'item_cnt_day': ['sum']})\n",
        "group.columns = ['item_cnt_month']\n",
        "group.reset_index(inplace=True)\n",
        "\n",
        "traintest = pd.merge(traintest, group, on=cols, how='left')\n",
        "traintest['item_cnt_month'] = (traintest['item_cnt_month']\n",
        "                                .fillna(0)\n",
        "                                .clip(0,20)          # clip\n",
        "                                .astype(np.float16)) # to preserve float format\n",
        "\n",
        "# Add TEST pairs to TRAINTEST:\n",
        "\n",
        "test['date_block_num'] = 34\n",
        "test = test.drop('ID', axis=1)\n",
        "\n",
        "\n",
        "test['date_block_num'] = test['date_block_num'].astype(np.int8)\n",
        "test['shop_id'] = test['shop_id'].astype(np.int8)\n",
        "test['item_id'] = test['item_id'].astype(np.int16)\n",
        "\n",
        "traintest = pd.concat([traintest, test], ignore_index=True, sort=False, keys=cols)\n",
        "traintest.fillna(0, inplace=True) # 34 month - here the new item_ids (not present in Train) get 0 sales"
      ],
      "execution_count": 0,
      "outputs": []
    },
    {
      "cell_type": "code",
      "metadata": {
        "id": "MUHjDuhBOFDE",
        "colab_type": "code",
        "colab": {}
      },
      "source": [
        "# Add Shops/Items/Cats and other features:\n",
        "\n",
        "traintest = pd.merge(traintest, shops, on=['shop_id'], how='left')\n",
        "traintest = pd.merge(traintest, items, on=['item_id'], how='left')\n",
        "traintest = pd.merge(traintest, cats,  on=['item_category_id'], how='left')\n",
        "traintest['city_code']        = traintest['city_code'].astype(np.int8)\n",
        "traintest['item_category_id'] = traintest['item_category_id'].astype(np.int8)\n",
        "traintest['type_code']        = traintest['type_code'].astype(np.int8)\n",
        "traintest['subtype_code']     = traintest['subtype_code'].astype(np.int8)\n",
        "\n",
        "\n",
        "# Add the month number as a new feature:\n",
        "traintest['month'] = traintest['date_block_num'] % 12\n",
        "\n",
        "\n",
        "# Add number of workdays and holidays in each month as new features:\n",
        "hol_num  = [14, 8,  11, 8,  12, 11, 8,  10, 8,  8,  12, 8]\n",
        "work_num = [17, 20, 20, 22, 19, 19, 23, 21, 22, 23, 18, 23]\n",
        "\n",
        "def func_hols(ser):\n",
        "  return (hol_num[ser])\n",
        "\n",
        "def func_works(ser):\n",
        "  return (work_num[ser])\n",
        "\n",
        "traintest['month_hols']  = traintest['month'].apply(func_hols)\n",
        "traintest['month_hols']  = traintest['month_hols'].astype(np.int8)\n",
        "\n",
        "traintest['month_works'] = traintest['month'].apply(func_works)\n",
        "traintest['month_works'] = traintest['month_works'].astype(np.int8)"
      ],
      "execution_count": 0,
      "outputs": []
    },
    {
      "cell_type": "code",
      "metadata": {
        "id": "J09NIdCWwHcJ",
        "colab_type": "code",
        "colab": {}
      },
      "source": [
        "## (This cell takes 3 minutes 34 secs to compute)\n",
        "\n",
        "##          ~*~ Getting trends via Mean Target encoding:  ~*~\n",
        "\n",
        "# Take the closest non-zero price, compare it with the average price. \n",
        "# If an item costs less than in the past - it is a positive trend, otherwise - negative.\n",
        "\n",
        "\n",
        "def trend_feature(df, lagstep, col):\n",
        "    tmp = df[['date_block_num','shop_id','item_id',col]]\n",
        "    for i in lagstep:\n",
        "        shifted = tmp.copy()\n",
        "        shifted.columns = ['date_block_num','shop_id','item_id', col+'_lag_'+str(i)]\n",
        "        shifted['date_block_num'] += i\n",
        "        df = pd.merge(df, shifted, on=['date_block_num','shop_id','item_id'], how='left')\n",
        "    return df\n",
        "  \n",
        "\n",
        "traintest = trend_feature(traintest, [1,2,3,4,5,6], 'item_cnt_month')           # [1,2,3,4,5,6] - are the periods\n",
        "traintest['item_cnt_month_lag_1'] = traintest['item_cnt_month_lag_1'].fillna(0)\n",
        "traintest['item_cnt_month_lag_2'] = traintest['item_cnt_month_lag_2'].fillna(0)\n",
        "traintest['item_cnt_month_lag_3'] = traintest['item_cnt_month_lag_3'].fillna(0)\n",
        "traintest['item_cnt_month_lag_4'] = traintest['item_cnt_month_lag_4'].fillna(0)\n",
        "traintest['item_cnt_month_lag_5'] = traintest['item_cnt_month_lag_5'].fillna(0)\n",
        "traintest['item_cnt_month_lag_6'] = traintest['item_cnt_month_lag_6'].fillna(0)\n",
        "\n",
        "\n",
        "# Mean monthly cnt for each item:\n",
        "\n",
        "group = traintest.groupby(['date_block_num', 'item_id']).agg({'item_cnt_month': ['mean']}) # Target encoding!\n",
        "group.columns = [ 'monthly_byitem_itemcnt_mean' ]\n",
        "group.reset_index(inplace=True)\n",
        "\n",
        "traintest = pd.merge(traintest, group, on=['date_block_num','item_id'], how='left')\n",
        "traintest['monthly_byitem_itemcnt_mean'] = traintest['monthly_byitem_itemcnt_mean'].astype(np.float16)\n",
        "\n",
        "\n",
        "traintest = trend_feature(traintest, [1,2,3,4,5,6], 'monthly_byitem_itemcnt_mean')\n",
        "\n",
        "traintest['monthly_byitem_itemcnt_mean_lag_1'] = traintest['monthly_byitem_itemcnt_mean_lag_1'].fillna(0)\n",
        "traintest['monthly_byitem_itemcnt_mean_lag_2'] = traintest['monthly_byitem_itemcnt_mean_lag_2'].fillna(0)\n",
        "traintest['monthly_byitem_itemcnt_mean_lag_3'] = traintest['monthly_byitem_itemcnt_mean_lag_3'].fillna(0)\n",
        "traintest['monthly_byitem_itemcnt_mean_lag_4'] = traintest['monthly_byitem_itemcnt_mean_lag_4'].fillna(0)\n",
        "traintest['monthly_byitem_itemcnt_mean_lag_5'] = traintest['monthly_byitem_itemcnt_mean_lag_5'].fillna(0)\n",
        "traintest['monthly_byitem_itemcnt_mean_lag_6'] = traintest['monthly_byitem_itemcnt_mean_lag_6'].fillna(0)\n",
        "\n",
        "traintest.drop(['monthly_byitem_itemcnt_mean'], axis=1, inplace=True) # not to overfit!\n",
        "\n",
        "\n",
        "# Mean monthly cnt for each shop:\n",
        "\n",
        "group = traintest.groupby(['date_block_num', 'shop_id']).agg({'item_cnt_month': ['mean']})\n",
        "group.columns = [ 'monthly_byshop_itemcnt_mean' ]\n",
        "group.reset_index(inplace=True)\n",
        "\n",
        "traintest = pd.merge(traintest, group, on=['date_block_num','shop_id'], how='left')\n",
        "traintest['monthly_byshop_itemcnt_mean'] = traintest['monthly_byshop_itemcnt_mean'].astype(np.float16)\n",
        "\n",
        "traintest = trend_feature(traintest, [1,2,3,4,5,6], 'monthly_byshop_itemcnt_mean')\n",
        "\n",
        "traintest['monthly_byshop_itemcnt_mean_lag_1'] = traintest['monthly_byshop_itemcnt_mean_lag_1'].fillna(0)\n",
        "traintest['monthly_byshop_itemcnt_mean_lag_2'] = traintest['monthly_byshop_itemcnt_mean_lag_2'].fillna(0)\n",
        "traintest['monthly_byshop_itemcnt_mean_lag_3'] = traintest['monthly_byshop_itemcnt_mean_lag_3'].fillna(0)\n",
        "traintest['monthly_byshop_itemcnt_mean_lag_4'] = traintest['monthly_byshop_itemcnt_mean_lag_4'].fillna(0)\n",
        "traintest['monthly_byshop_itemcnt_mean_lag_5'] = traintest['monthly_byshop_itemcnt_mean_lag_5'].fillna(0)\n",
        "traintest['monthly_byshop_itemcnt_mean_lag_6'] = traintest['monthly_byshop_itemcnt_mean_lag_6'].fillna(0)\n",
        "\n",
        "\n",
        "traintest.drop(['monthly_byshop_itemcnt_mean'], axis=1, inplace=True) # not to overfit!"
      ],
      "execution_count": 0,
      "outputs": []
    },
    {
      "cell_type": "code",
      "metadata": {
        "id": "TaFtnLF7uRte",
        "colab_type": "code",
        "outputId": "f559437a-dbb1-4e77-d7f2-0d88ee105d06",
        "colab": {
          "base_uri": "https://localhost:8080/",
          "height": 215
        }
      },
      "source": [
        "# Rename to save traintest unchanged (just in case).\n",
        "# Take a look at the data.\n",
        "\n",
        "data = traintest\n",
        "data.tail()"
      ],
      "execution_count": 10,
      "outputs": [
        {
          "output_type": "execute_result",
          "data": {
            "text/html": [
              "<div>\n",
              "<style scoped>\n",
              "    .dataframe tbody tr th:only-of-type {\n",
              "        vertical-align: middle;\n",
              "    }\n",
              "\n",
              "    .dataframe tbody tr th {\n",
              "        vertical-align: top;\n",
              "    }\n",
              "\n",
              "    .dataframe thead th {\n",
              "        text-align: right;\n",
              "    }\n",
              "</style>\n",
              "<table border=\"1\" class=\"dataframe\">\n",
              "  <thead>\n",
              "    <tr style=\"text-align: right;\">\n",
              "      <th></th>\n",
              "      <th>date_block_num</th>\n",
              "      <th>shop_id</th>\n",
              "      <th>item_id</th>\n",
              "      <th>item_cnt_month</th>\n",
              "      <th>city_code</th>\n",
              "      <th>item_category_id</th>\n",
              "      <th>type_code</th>\n",
              "      <th>subtype_code</th>\n",
              "      <th>month</th>\n",
              "      <th>month_hols</th>\n",
              "      <th>month_works</th>\n",
              "      <th>item_cnt_month_lag_1</th>\n",
              "      <th>item_cnt_month_lag_2</th>\n",
              "      <th>item_cnt_month_lag_3</th>\n",
              "      <th>item_cnt_month_lag_4</th>\n",
              "      <th>item_cnt_month_lag_5</th>\n",
              "      <th>item_cnt_month_lag_6</th>\n",
              "      <th>monthly_byitem_itemcnt_mean_lag_1</th>\n",
              "      <th>monthly_byitem_itemcnt_mean_lag_2</th>\n",
              "      <th>monthly_byitem_itemcnt_mean_lag_3</th>\n",
              "      <th>monthly_byitem_itemcnt_mean_lag_4</th>\n",
              "      <th>monthly_byitem_itemcnt_mean_lag_5</th>\n",
              "      <th>monthly_byitem_itemcnt_mean_lag_6</th>\n",
              "      <th>monthly_byshop_itemcnt_mean_lag_1</th>\n",
              "      <th>monthly_byshop_itemcnt_mean_lag_2</th>\n",
              "      <th>monthly_byshop_itemcnt_mean_lag_3</th>\n",
              "      <th>monthly_byshop_itemcnt_mean_lag_4</th>\n",
              "      <th>monthly_byshop_itemcnt_mean_lag_5</th>\n",
              "      <th>monthly_byshop_itemcnt_mean_lag_6</th>\n",
              "    </tr>\n",
              "  </thead>\n",
              "  <tbody>\n",
              "    <tr>\n",
              "      <th>11127999</th>\n",
              "      <td>34</td>\n",
              "      <td>45</td>\n",
              "      <td>18454</td>\n",
              "      <td>0.0</td>\n",
              "      <td>20</td>\n",
              "      <td>55</td>\n",
              "      <td>13</td>\n",
              "      <td>2</td>\n",
              "      <td>10</td>\n",
              "      <td>12</td>\n",
              "      <td>18</td>\n",
              "      <td>1.0</td>\n",
              "      <td>0.0</td>\n",
              "      <td>0.0</td>\n",
              "      <td>0.0</td>\n",
              "      <td>0.0</td>\n",
              "      <td>0.0</td>\n",
              "      <td>0.045441</td>\n",
              "      <td>0.023254</td>\n",
              "      <td>0.071411</td>\n",
              "      <td>0.279053</td>\n",
              "      <td>0.441895</td>\n",
              "      <td>0.590820</td>\n",
              "      <td>0.126709</td>\n",
              "      <td>0.128784</td>\n",
              "      <td>0.139038</td>\n",
              "      <td>0.126831</td>\n",
              "      <td>0.119446</td>\n",
              "      <td>0.137573</td>\n",
              "    </tr>\n",
              "    <tr>\n",
              "      <th>11128000</th>\n",
              "      <td>34</td>\n",
              "      <td>45</td>\n",
              "      <td>16188</td>\n",
              "      <td>0.0</td>\n",
              "      <td>20</td>\n",
              "      <td>64</td>\n",
              "      <td>14</td>\n",
              "      <td>42</td>\n",
              "      <td>10</td>\n",
              "      <td>12</td>\n",
              "      <td>18</td>\n",
              "      <td>0.0</td>\n",
              "      <td>0.0</td>\n",
              "      <td>0.0</td>\n",
              "      <td>0.0</td>\n",
              "      <td>0.0</td>\n",
              "      <td>0.0</td>\n",
              "      <td>0.022720</td>\n",
              "      <td>0.069763</td>\n",
              "      <td>0.000000</td>\n",
              "      <td>0.000000</td>\n",
              "      <td>0.000000</td>\n",
              "      <td>0.000000</td>\n",
              "      <td>0.126709</td>\n",
              "      <td>0.128784</td>\n",
              "      <td>0.000000</td>\n",
              "      <td>0.000000</td>\n",
              "      <td>0.000000</td>\n",
              "      <td>0.000000</td>\n",
              "    </tr>\n",
              "    <tr>\n",
              "      <th>11128001</th>\n",
              "      <td>34</td>\n",
              "      <td>45</td>\n",
              "      <td>15757</td>\n",
              "      <td>0.0</td>\n",
              "      <td>20</td>\n",
              "      <td>55</td>\n",
              "      <td>13</td>\n",
              "      <td>2</td>\n",
              "      <td>10</td>\n",
              "      <td>12</td>\n",
              "      <td>18</td>\n",
              "      <td>0.0</td>\n",
              "      <td>0.0</td>\n",
              "      <td>0.0</td>\n",
              "      <td>0.0</td>\n",
              "      <td>0.0</td>\n",
              "      <td>0.0</td>\n",
              "      <td>0.113647</td>\n",
              "      <td>0.069763</td>\n",
              "      <td>0.095215</td>\n",
              "      <td>0.093018</td>\n",
              "      <td>0.186035</td>\n",
              "      <td>0.250000</td>\n",
              "      <td>0.126709</td>\n",
              "      <td>0.128784</td>\n",
              "      <td>0.139038</td>\n",
              "      <td>0.126831</td>\n",
              "      <td>0.119446</td>\n",
              "      <td>0.137573</td>\n",
              "    </tr>\n",
              "    <tr>\n",
              "      <th>11128002</th>\n",
              "      <td>34</td>\n",
              "      <td>45</td>\n",
              "      <td>19648</td>\n",
              "      <td>0.0</td>\n",
              "      <td>20</td>\n",
              "      <td>40</td>\n",
              "      <td>11</td>\n",
              "      <td>4</td>\n",
              "      <td>10</td>\n",
              "      <td>12</td>\n",
              "      <td>18</td>\n",
              "      <td>0.0</td>\n",
              "      <td>0.0</td>\n",
              "      <td>0.0</td>\n",
              "      <td>0.0</td>\n",
              "      <td>0.0</td>\n",
              "      <td>0.0</td>\n",
              "      <td>0.045441</td>\n",
              "      <td>0.069763</td>\n",
              "      <td>0.166626</td>\n",
              "      <td>0.046509</td>\n",
              "      <td>0.093018</td>\n",
              "      <td>0.090881</td>\n",
              "      <td>0.126709</td>\n",
              "      <td>0.128784</td>\n",
              "      <td>0.139038</td>\n",
              "      <td>0.126831</td>\n",
              "      <td>0.119446</td>\n",
              "      <td>0.137573</td>\n",
              "    </tr>\n",
              "    <tr>\n",
              "      <th>11128003</th>\n",
              "      <td>34</td>\n",
              "      <td>45</td>\n",
              "      <td>969</td>\n",
              "      <td>0.0</td>\n",
              "      <td>20</td>\n",
              "      <td>37</td>\n",
              "      <td>11</td>\n",
              "      <td>1</td>\n",
              "      <td>10</td>\n",
              "      <td>12</td>\n",
              "      <td>18</td>\n",
              "      <td>0.0</td>\n",
              "      <td>0.0</td>\n",
              "      <td>0.0</td>\n",
              "      <td>0.0</td>\n",
              "      <td>0.0</td>\n",
              "      <td>0.0</td>\n",
              "      <td>0.068176</td>\n",
              "      <td>0.116272</td>\n",
              "      <td>0.023804</td>\n",
              "      <td>0.046509</td>\n",
              "      <td>0.046509</td>\n",
              "      <td>0.068176</td>\n",
              "      <td>0.126709</td>\n",
              "      <td>0.128784</td>\n",
              "      <td>0.139038</td>\n",
              "      <td>0.126831</td>\n",
              "      <td>0.119446</td>\n",
              "      <td>0.137573</td>\n",
              "    </tr>\n",
              "  </tbody>\n",
              "</table>\n",
              "</div>"
            ],
            "text/plain": [
              "          date_block_num  ...  monthly_byshop_itemcnt_mean_lag_6\n",
              "11127999              34  ...                           0.137573\n",
              "11128000              34  ...                           0.000000\n",
              "11128001              34  ...                           0.137573\n",
              "11128002              34  ...                           0.137573\n",
              "11128003              34  ...                           0.137573\n",
              "\n",
              "[5 rows x 29 columns]"
            ]
          },
          "metadata": {
            "tags": []
          },
          "execution_count": 10
        }
      ]
    },
    {
      "cell_type": "code",
      "metadata": {
        "id": "O821n5ku7puk",
        "colab_type": "code",
        "colab": {}
      },
      "source": [
        "# Separate X_test (because it won't be used for mean encoding):\n",
        "\n",
        "X_test = data[data.date_block_num == 34].drop(['date_block_num', 'item_cnt_month'], axis=1) # 'date_block_num' is not a useful feature\n",
        "\n",
        "data = data[data.date_block_num < 34]"
      ],
      "execution_count": 0,
      "outputs": []
    },
    {
      "cell_type": "code",
      "metadata": {
        "id": "NE2oYuUVabxF",
        "colab_type": "code",
        "outputId": "1887a4a0-4e45-4fc1-9203-a04d42c4eafd",
        "colab": {
          "base_uri": "https://localhost:8080/",
          "height": 655
        }
      },
      "source": [
        "\n",
        "#     ~~~~ *** ~~ K-fold Mean Encoding for the TRAIN set: ~~***~~~~\n",
        "\n",
        "\n",
        "kf = KFold(n_splits=5, shuffle=False)\n",
        "\n",
        "# Add mean target values for each item_id, shop_id, item_category_id - as new features:\n",
        "\n",
        "\n",
        "# (Gives out some Warnings because of slicing, but works anyway)\n",
        "\n",
        "\n",
        "data['kf_enc_item_id']    = 'NaN'\n",
        "data['kf_enc_shop_id']    = 'NaN'\n",
        "data['kf_enc_itemcat_id'] = 'NaN'\n",
        "\n",
        "global_mean = data['item_cnt_month'].values.mean()\n",
        "\n",
        "for tr_ind, val_ind in kf.split(data):\n",
        "    X_tr, X_val = data.iloc[tr_ind], data.iloc[val_ind]    \n",
        "    data['kf_enc_item_id']    = X_val['item_id'].map(X_tr.groupby('item_id').item_cnt_month.mean())\n",
        "    data['kf_enc_shop_id']    = X_val['shop_id'].map(X_tr.groupby('shop_id').item_cnt_month.mean())\n",
        "    data['kf_enc_itemcat_id'] = X_val['item_category_id'].map(X_tr.groupby('item_category_id').item_cnt_month.mean())\n",
        "    \n",
        "            \n",
        "data['kf_enc_item_id'].fillna(global_mean, inplace=True)     # Fill NaNs\n",
        "data['kf_enc_shop_id'].fillna(global_mean, inplace=True)     # Fill NaNs\n",
        "data['kf_enc_itemcat_id'].fillna(global_mean, inplace=True)  # Fill NaNs"
      ],
      "execution_count": 12,
      "outputs": [
        {
          "output_type": "stream",
          "text": [
            "/usr/local/lib/python3.6/dist-packages/ipykernel_launcher.py:11: SettingWithCopyWarning: \n",
            "A value is trying to be set on a copy of a slice from a DataFrame.\n",
            "Try using .loc[row_indexer,col_indexer] = value instead\n",
            "\n",
            "See the caveats in the documentation: http://pandas.pydata.org/pandas-docs/stable/user_guide/indexing.html#returning-a-view-versus-a-copy\n",
            "  # This is added back by InteractiveShellApp.init_path()\n",
            "/usr/local/lib/python3.6/dist-packages/ipykernel_launcher.py:12: SettingWithCopyWarning: \n",
            "A value is trying to be set on a copy of a slice from a DataFrame.\n",
            "Try using .loc[row_indexer,col_indexer] = value instead\n",
            "\n",
            "See the caveats in the documentation: http://pandas.pydata.org/pandas-docs/stable/user_guide/indexing.html#returning-a-view-versus-a-copy\n",
            "  if sys.path[0] == '':\n",
            "/usr/local/lib/python3.6/dist-packages/ipykernel_launcher.py:13: SettingWithCopyWarning: \n",
            "A value is trying to be set on a copy of a slice from a DataFrame.\n",
            "Try using .loc[row_indexer,col_indexer] = value instead\n",
            "\n",
            "See the caveats in the documentation: http://pandas.pydata.org/pandas-docs/stable/user_guide/indexing.html#returning-a-view-versus-a-copy\n",
            "  del sys.path[0]\n",
            "/usr/local/lib/python3.6/dist-packages/ipykernel_launcher.py:19: SettingWithCopyWarning: \n",
            "A value is trying to be set on a copy of a slice from a DataFrame.\n",
            "Try using .loc[row_indexer,col_indexer] = value instead\n",
            "\n",
            "See the caveats in the documentation: http://pandas.pydata.org/pandas-docs/stable/user_guide/indexing.html#returning-a-view-versus-a-copy\n",
            "/usr/local/lib/python3.6/dist-packages/ipykernel_launcher.py:20: SettingWithCopyWarning: \n",
            "A value is trying to be set on a copy of a slice from a DataFrame.\n",
            "Try using .loc[row_indexer,col_indexer] = value instead\n",
            "\n",
            "See the caveats in the documentation: http://pandas.pydata.org/pandas-docs/stable/user_guide/indexing.html#returning-a-view-versus-a-copy\n",
            "/usr/local/lib/python3.6/dist-packages/ipykernel_launcher.py:21: SettingWithCopyWarning: \n",
            "A value is trying to be set on a copy of a slice from a DataFrame.\n",
            "Try using .loc[row_indexer,col_indexer] = value instead\n",
            "\n",
            "See the caveats in the documentation: http://pandas.pydata.org/pandas-docs/stable/user_guide/indexing.html#returning-a-view-versus-a-copy\n",
            "/usr/local/lib/python3.6/dist-packages/pandas/core/generic.py:6287: SettingWithCopyWarning: \n",
            "A value is trying to be set on a copy of a slice from a DataFrame\n",
            "\n",
            "See the caveats in the documentation: http://pandas.pydata.org/pandas-docs/stable/user_guide/indexing.html#returning-a-view-versus-a-copy\n",
            "  self._update_inplace(new_data)\n"
          ],
          "name": "stderr"
        }
      ]
    },
    {
      "cell_type": "code",
      "metadata": {
        "id": "Q-tsdA2Ykfqz",
        "colab_type": "code",
        "colab": {}
      },
      "source": [
        "# Map encodings to Test:\n",
        "\n",
        "kf_enc__item_dict = dict(zip(data.item_id, data.kf_enc_item_id))\n",
        "X_test['kf_enc_item_id'] = X_test['item_id'].map(kf_enc__item_dict) \n",
        "X_test['kf_enc_item_id'].fillna(global_mean, inplace=True)  # Fill NaNs\n",
        "X_test['kf_enc_item_id'] = X_test['kf_enc_item_id'].astype(np.float16)\n",
        "\n",
        "\n",
        "kf_enc__shop_dict = dict(zip(data.shop_id, data.kf_enc_shop_id))\n",
        "X_test['kf_enc_shop_id'] = X_test['shop_id'].map(kf_enc__shop_dict) \n",
        "X_test['kf_enc_shop_id'].fillna(global_mean, inplace=True)  # Fill NaNs\n",
        "X_test['kf_enc_shop_id'] = X_test['kf_enc_shop_id'].astype(np.float16)\n",
        "\n",
        "\n",
        "kf_enc__cat_dict = dict(zip(data.item_category_id, data.kf_enc_itemcat_id))\n",
        "X_test['kf_enc_itemcat_id'] = X_test['item_category_id'].map(kf_enc__cat_dict) \n",
        "X_test['kf_enc_itemcat_id'].fillna(global_mean, inplace=True)  # Fill NaNs\n",
        "X_test['kf_enc_itemcat_id'] = X_test['kf_enc_itemcat_id'].astype(np.float16)\n"
      ],
      "execution_count": 0,
      "outputs": []
    },
    {
      "cell_type": "code",
      "metadata": {
        "id": "jp2p8pM4TyUL",
        "colab_type": "code",
        "colab": {}
      },
      "source": [
        "# Separate X_train:\n",
        "\n",
        "Y_train = data['item_cnt_month']\n",
        "X_train = data.drop(['date_block_num', 'item_cnt_month'], axis=1)"
      ],
      "execution_count": 0,
      "outputs": []
    },
    {
      "cell_type": "code",
      "metadata": {
        "id": "RzmudHuKTGNg",
        "colab_type": "code",
        "outputId": "f47b39f6-d77f-440d-e9a0-deaa417a9d42",
        "colab": {
          "base_uri": "https://localhost:8080/",
          "height": 655
        }
      },
      "source": [
        "##  ~~ Summarize data before training: ~~\n",
        "\n",
        "print('\\nX_train info:\\n')\n",
        "X_train.info()  \n",
        "\n",
        "\n",
        "# Data columns (total 30 columns):\n",
        "# dtypes: float16(21), int16(1), int8(8)\n",
        "# memory usage: 624.5 MB"
      ],
      "execution_count": 15,
      "outputs": [
        {
          "output_type": "stream",
          "text": [
            "\n",
            "X_train info:\n",
            "\n",
            "<class 'pandas.core.frame.DataFrame'>\n",
            "Int64Index: 10913804 entries, 0 to 10913803\n",
            "Data columns (total 30 columns):\n",
            "shop_id                              int8\n",
            "item_id                              int16\n",
            "city_code                            int8\n",
            "item_category_id                     int8\n",
            "type_code                            int8\n",
            "subtype_code                         int8\n",
            "month                                int8\n",
            "month_hols                           int8\n",
            "month_works                          int8\n",
            "item_cnt_month_lag_1                 float16\n",
            "item_cnt_month_lag_2                 float16\n",
            "item_cnt_month_lag_3                 float16\n",
            "item_cnt_month_lag_4                 float16\n",
            "item_cnt_month_lag_5                 float16\n",
            "item_cnt_month_lag_6                 float16\n",
            "monthly_byitem_itemcnt_mean_lag_1    float16\n",
            "monthly_byitem_itemcnt_mean_lag_2    float16\n",
            "monthly_byitem_itemcnt_mean_lag_3    float16\n",
            "monthly_byitem_itemcnt_mean_lag_4    float16\n",
            "monthly_byitem_itemcnt_mean_lag_5    float16\n",
            "monthly_byitem_itemcnt_mean_lag_6    float16\n",
            "monthly_byshop_itemcnt_mean_lag_1    float16\n",
            "monthly_byshop_itemcnt_mean_lag_2    float16\n",
            "monthly_byshop_itemcnt_mean_lag_3    float16\n",
            "monthly_byshop_itemcnt_mean_lag_4    float16\n",
            "monthly_byshop_itemcnt_mean_lag_5    float16\n",
            "monthly_byshop_itemcnt_mean_lag_6    float16\n",
            "kf_enc_item_id                       float16\n",
            "kf_enc_shop_id                       float16\n",
            "kf_enc_itemcat_id                    float16\n",
            "dtypes: float16(21), int16(1), int8(8)\n",
            "memory usage: 624.5 MB\n"
          ],
          "name": "stdout"
        }
      ]
    },
    {
      "cell_type": "code",
      "metadata": {
        "id": "RRSExnYhTSkj",
        "colab_type": "code",
        "outputId": "f562780a-b73b-4dbe-f5d5-9a4748192e9e",
        "colab": {
          "base_uri": "https://localhost:8080/",
          "height": 655
        }
      },
      "source": [
        "print('\\nX_test info:\\n')\n",
        "X_test.info()\n",
        "\n",
        "# Data columns (total 30 columns):\n",
        "# dtypes: float16(21), int16(1), int8(8)\n",
        "# memory usage: 12.3 MB"
      ],
      "execution_count": 16,
      "outputs": [
        {
          "output_type": "stream",
          "text": [
            "\n",
            "X_test info:\n",
            "\n",
            "<class 'pandas.core.frame.DataFrame'>\n",
            "Int64Index: 214200 entries, 10913804 to 11128003\n",
            "Data columns (total 30 columns):\n",
            "shop_id                              214200 non-null int8\n",
            "item_id                              214200 non-null int16\n",
            "city_code                            214200 non-null int8\n",
            "item_category_id                     214200 non-null int8\n",
            "type_code                            214200 non-null int8\n",
            "subtype_code                         214200 non-null int8\n",
            "month                                214200 non-null int8\n",
            "month_hols                           214200 non-null int8\n",
            "month_works                          214200 non-null int8\n",
            "item_cnt_month_lag_1                 214200 non-null float16\n",
            "item_cnt_month_lag_2                 214200 non-null float16\n",
            "item_cnt_month_lag_3                 214200 non-null float16\n",
            "item_cnt_month_lag_4                 214200 non-null float16\n",
            "item_cnt_month_lag_5                 214200 non-null float16\n",
            "item_cnt_month_lag_6                 214200 non-null float16\n",
            "monthly_byitem_itemcnt_mean_lag_1    214200 non-null float16\n",
            "monthly_byitem_itemcnt_mean_lag_2    214200 non-null float16\n",
            "monthly_byitem_itemcnt_mean_lag_3    214200 non-null float16\n",
            "monthly_byitem_itemcnt_mean_lag_4    214200 non-null float16\n",
            "monthly_byitem_itemcnt_mean_lag_5    214200 non-null float16\n",
            "monthly_byitem_itemcnt_mean_lag_6    214200 non-null float16\n",
            "monthly_byshop_itemcnt_mean_lag_1    214200 non-null float16\n",
            "monthly_byshop_itemcnt_mean_lag_2    214200 non-null float16\n",
            "monthly_byshop_itemcnt_mean_lag_3    214200 non-null float16\n",
            "monthly_byshop_itemcnt_mean_lag_4    214200 non-null float16\n",
            "monthly_byshop_itemcnt_mean_lag_5    214200 non-null float16\n",
            "monthly_byshop_itemcnt_mean_lag_6    214200 non-null float16\n",
            "kf_enc_item_id                       214200 non-null float16\n",
            "kf_enc_shop_id                       214200 non-null float16\n",
            "kf_enc_itemcat_id                    214200 non-null float16\n",
            "dtypes: float16(21), int16(1), int8(8)\n",
            "memory usage: 12.3 MB\n"
          ],
          "name": "stdout"
        }
      ]
    },
    {
      "cell_type": "code",
      "metadata": {
        "id": "sRtHqSSAcPpx",
        "colab_type": "code",
        "colab": {}
      },
      "source": [
        "\n",
        "##                    ~~~~***~~ TRAINING ~~***~~~~\n",
        "##==============================================================================\n",
        "\n",
        "## (Models were first validated (Holdout scheme) to choose roughly optimal hyperparameters.\n",
        "## First-level models validation cells are ommitted in this version of notebook for clarity.)  "
      ],
      "execution_count": 0,
      "outputs": []
    },
    {
      "cell_type": "code",
      "metadata": {
        "id": "A49dcy5CdUK3",
        "colab_type": "code",
        "colab": {}
      },
      "source": [
        "##                 ~~~~***~~ MODEL 1 - CATBOOST ~~***~~~~\n",
        "##=============================================================================="
      ],
      "execution_count": 0,
      "outputs": []
    },
    {
      "cell_type": "code",
      "metadata": {
        "id": "WnIMOEOhQDam",
        "colab_type": "code",
        "colab": {}
      },
      "source": [
        "## This cell computes for 7 minutes 5 seconds. \n",
        "\n",
        "## Uncomment this cell to train Model_cat from scratch. Otherwise a pretrained model is loaded in the next cell.\n",
        "\n",
        "\n",
        "# train_pool = Pool(X_train, Y_train)\n",
        "\n",
        "# ## X_test is already created!\n",
        "\n",
        "# ##==============================================================================\n",
        "# # MODEL - Catboost:\n",
        "\n",
        "# train_pool = Pool(X_train, Y_train)\n",
        "# Model_cat  = CatBoostRegressor(iterations=1067, \n",
        "#                                loss_function='RMSE', \n",
        "#                                boosting_type='Ordered',\n",
        "#                                task_type='GPU',\n",
        "#                                verbose= True)\n",
        "\n",
        "# Model_cat.fit(train_pool)"
      ],
      "execution_count": 0,
      "outputs": []
    },
    {
      "cell_type": "code",
      "metadata": {
        "id": "rI1sHnRxhdWt",
        "colab_type": "code",
        "outputId": "bb10feef-e634-4221-9d07-5ba072cd16c6",
        "colab": {
          "base_uri": "https://localhost:8080/",
          "height": 218
        }
      },
      "source": [
        "## Load model:\n",
        "\n",
        "!wget https://raw.githubusercontent.com/Ritchizh/PredictFutureSales_notebook/master/Models/Model_cat.bin\n",
        "\n",
        "Model_cat = CatBoostRegressor(iterations=1067, \n",
        "                      loss_function='RMSE', \n",
        "                      boosting_type='Ordered',\n",
        "                      task_type='GPU',\n",
        "                      verbose= True)\n",
        "Model_cat.load_model('Model_cat.bin')"
      ],
      "execution_count": 19,
      "outputs": [
        {
          "output_type": "stream",
          "text": [
            "--2019-10-28 09:24:54--  https://raw.githubusercontent.com/Ritchizh/PredictFutureSales_notebook/master/Models/Model_cat.bin\n",
            "Resolving raw.githubusercontent.com (raw.githubusercontent.com)... 151.101.0.133, 151.101.64.133, 151.101.128.133, ...\n",
            "Connecting to raw.githubusercontent.com (raw.githubusercontent.com)|151.101.0.133|:443... connected.\n",
            "HTTP request sent, awaiting response... 200 OK\n",
            "Length: 1137032 (1.1M) [application/octet-stream]\n",
            "Saving to: ‘Model_cat.bin’\n",
            "\n",
            "\rModel_cat.bin         0%[                    ]       0  --.-KB/s               \rModel_cat.bin       100%[===================>]   1.08M  --.-KB/s    in 0.07s   \n",
            "\n",
            "2019-10-28 09:24:55 (15.4 MB/s) - ‘Model_cat.bin’ saved [1137032/1137032]\n",
            "\n"
          ],
          "name": "stdout"
        },
        {
          "output_type": "execute_result",
          "data": {
            "text/plain": [
              "<catboost.core.CatBoostRegressor at 0x7f59dd2d79e8>"
            ]
          },
          "metadata": {
            "tags": []
          },
          "execution_count": 19
        }
      ]
    },
    {
      "cell_type": "code",
      "metadata": {
        "id": "1OoaxFt1Qoup",
        "colab_type": "code",
        "colab": {}
      },
      "source": [
        "# Predict:\n",
        "\n",
        "pred_cat = Model_cat.predict(X_test).clip(0, 20)"
      ],
      "execution_count": 0,
      "outputs": []
    },
    {
      "cell_type": "code",
      "metadata": {
        "id": "r8hmiCG0eh2W",
        "colab_type": "code",
        "colab": {}
      },
      "source": [
        "##            ~~~~***~~ MODEL 2 - Linear Regression ~~***~~~~\n",
        "##=============================================================================="
      ],
      "execution_count": 0,
      "outputs": []
    },
    {
      "cell_type": "code",
      "metadata": {
        "id": "puwoIBK_Nr1j",
        "colab_type": "code",
        "colab": {}
      },
      "source": [
        "## This cell computes for 13 seconds.\n",
        "\n",
        "## Uncomment this cell to train Model_Lr from scratch. Otherwise a pretrained model is loaded in the next cell.\n",
        "\n",
        "\n",
        "# Model_Lr = LinearRegression(n_jobs=-1)\n",
        "# Model_Lr.fit(X_train, Y_train)\n"
      ],
      "execution_count": 0,
      "outputs": []
    },
    {
      "cell_type": "code",
      "metadata": {
        "id": "VrLIrhxgZLYR",
        "colab_type": "code",
        "outputId": "0026967c-c801-47d9-9371-4e7f3fb76d40",
        "colab": {
          "base_uri": "https://localhost:8080/",
          "height": 202
        }
      },
      "source": [
        "## Load model:\n",
        "\n",
        "!wget https://raw.githubusercontent.com/Ritchizh/PredictFutureSales_notebook/master/Models/Model_Lr.pkl\n",
        "Model_Lr = joblib.load('Model_Lr.pkl') \n"
      ],
      "execution_count": 22,
      "outputs": [
        {
          "output_type": "stream",
          "text": [
            "--2019-10-28 09:24:56--  https://raw.githubusercontent.com/Ritchizh/PredictFutureSales_notebook/master/Models/Model_Lr.pkl\n",
            "Resolving raw.githubusercontent.com (raw.githubusercontent.com)... 151.101.0.133, 151.101.64.133, 151.101.128.133, ...\n",
            "Connecting to raw.githubusercontent.com (raw.githubusercontent.com)|151.101.0.133|:443... connected.\n",
            "HTTP request sent, awaiting response... 200 OK\n",
            "Length: 794 [application/octet-stream]\n",
            "Saving to: ‘Model_Lr.pkl’\n",
            "\n",
            "\rModel_Lr.pkl          0%[                    ]       0  --.-KB/s               \rModel_Lr.pkl        100%[===================>]     794  --.-KB/s    in 0s      \n",
            "\n",
            "2019-10-28 09:24:56 (136 MB/s) - ‘Model_Lr.pkl’ saved [794/794]\n",
            "\n"
          ],
          "name": "stdout"
        }
      ]
    },
    {
      "cell_type": "code",
      "metadata": {
        "id": "1pbGGNsdb_j5",
        "colab_type": "code",
        "colab": {}
      },
      "source": [
        "# Predict:\n",
        "\n",
        "pred_lr = Model_Lr.predict(X_test).clip(0, 20)"
      ],
      "execution_count": 0,
      "outputs": []
    },
    {
      "cell_type": "code",
      "metadata": {
        "colab_type": "code",
        "id": "WnrVYOQst3UQ",
        "colab": {}
      },
      "source": [
        "##               ~~~~***~~ ENSEMBLING - Stacking ~~***~~~~\n",
        "##==============================================================================\n",
        "\n",
        "## * Stacking is done as in Week 4 Programming assignment.\n",
        "\n",
        "## For validation scheme f) from the reading material (Week 4) is used. \n",
        "## Here, duration T is equal to month and M=15."
      ],
      "execution_count": 0,
      "outputs": []
    },
    {
      "cell_type": "code",
      "metadata": {
        "id": "8ticbsB0PCit",
        "colab_type": "code",
        "colab": {}
      },
      "source": [
        "# Concatenate test predictions to get test meta-features\n",
        "X_test_level2 = np.c_[pred_cat, pred_lr]\n",
        "\n",
        "dates = traintest['date_block_num']\n",
        "\n",
        "dates_train = dates[dates <  34]\n",
        "dates_test  = dates[dates == 34]\n",
        "\n",
        "dates_train_level2 = dates_train[dates_train.isin([27, 28, 29, 30, 31, 32, 33])]\n",
        "\n",
        "y_train_level2 = Y_train[dates_train.isin([27, 28, 29, 30, 31, 32, 33])]"
      ],
      "execution_count": 0,
      "outputs": []
    },
    {
      "cell_type": "code",
      "metadata": {
        "id": "kKtXo9wXFHV2",
        "colab_type": "code",
        "colab": {}
      },
      "source": [
        "## This cell computes for 56 minutes 41 seconds.\n",
        "\n",
        "## Uncomment this cell to compute X_train_level2 from scratch. Otherwise precomputed data is loaded in the next cell.\n",
        "\n",
        "\n",
        "# X_train_level2 = np.zeros([y_train_level2.shape[0], 2])\n",
        "\n",
        "# # Now fill `X_train_level2` with metafeatures\n",
        "# for cur_block_num in [27, 28, 29, 30, 31, 32, 33]:\n",
        "    \n",
        "#     print(cur_block_num)\n",
        "    \n",
        "    \n",
        "#     # Split X_train:\n",
        "#     cur_X_train = X_train.loc[dates_train < cur_block_num]\n",
        "#     cur_y_train = Y_train.loc[dates_train < cur_block_num]\n",
        "    \n",
        "#     cur_X_pred  = X_train.loc[dates_train == cur_block_num]\n",
        "        \n",
        "    \n",
        "#     # -- Model 1 - Catboost --\n",
        "    \n",
        "#     model_cat = CatBoostRegressor(iterations=1067, \n",
        "#                       loss_function='RMSE', \n",
        "#                       boosting_type='Ordered',\n",
        "#                       task_type='GPU')\n",
        "    \n",
        "\n",
        "#     model_cat.fit(cur_X_train, cur_y_train)\n",
        "#     cur_cat_pred = model_cat.predict(cur_X_pred)\n",
        "    \n",
        "  \n",
        "#     # -- Model 2 - Linear Regression --\n",
        "\n",
        "#     lr = LinearRegression()\n",
        "#     lr.fit(cur_X_train.values, cur_y_train)\n",
        "#     cur_lr_pred = lr.predict(cur_X_pred.values)\n",
        "    \n",
        "#     # Store preds:\n",
        "#     X_train_level2[dates_train_level2 == cur_block_num, 0] = cur_cat_pred\n",
        "#     X_train_level2[dates_train_level2 == cur_block_num, 1] = cur_lr_pred\n",
        "    \n",
        "  "
      ],
      "execution_count": 0,
      "outputs": []
    },
    {
      "cell_type": "code",
      "metadata": {
        "id": "GTq8UGnufFjk",
        "colab_type": "code",
        "colab": {}
      },
      "source": [
        "# Load precomputed X_train_level2:\n",
        "\n",
        "X_train_level2 = pd.read_csv('https://raw.githubusercontent.com/Ritchizh/PredictFutureSales_notebook/master/Models/meta_X_train.csv.gz', compression='gzip', header=None)\n"
      ],
      "execution_count": 0,
      "outputs": []
    },
    {
      "cell_type": "code",
      "metadata": {
        "id": "Ku7kome7GeOI",
        "colab_type": "code",
        "outputId": "48aca7ad-42e4-4c86-cd88-3c3e2d4a35d4",
        "colab": {
          "base_uri": "https://localhost:8080/",
          "height": 34
        }
      },
      "source": [
        "##              ~~~~***~~ META MODEL ~~***~~~~\n",
        "\n",
        "# Linear Regression:\n",
        "\n",
        "meta_lr = LinearRegression()\n",
        "meta_lr.fit(X_train_level2, y_train_level2)"
      ],
      "execution_count": 27,
      "outputs": [
        {
          "output_type": "execute_result",
          "data": {
            "text/plain": [
              "LinearRegression(copy_X=True, fit_intercept=True, n_jobs=None, normalize=False)"
            ]
          },
          "metadata": {
            "tags": []
          },
          "execution_count": 27
        }
      ]
    },
    {
      "cell_type": "code",
      "metadata": {
        "id": "019EOCtD3exM",
        "colab_type": "code",
        "colab": {}
      },
      "source": [
        "test_preds = meta_lr.predict(X_test_level2)"
      ],
      "execution_count": 0,
      "outputs": []
    },
    {
      "cell_type": "code",
      "metadata": {
        "id": "oecUIOeUvtpB",
        "colab_type": "code",
        "colab": {}
      },
      "source": [
        "##                 ~~~~***~~ SUBMISSION ~~***~~~~\n",
        "##==============================================================================\n",
        "\n",
        "submission = pd.DataFrame({\"ID\":sample_submission[\"ID\"],\n",
        "                           \"item_cnt_month\":test_preds})"
      ],
      "execution_count": 0,
      "outputs": []
    },
    {
      "cell_type": "code",
      "metadata": {
        "id": "ywMENduJ1zUC",
        "colab_type": "code",
        "colab": {
          "base_uri": "https://localhost:8080/",
          "height": 50
        },
        "outputId": "1b6a30cc-167c-4aa4-c920-1f4a31683cc6"
      },
      "source": [
        "# SAVE FILE TO PC:\n",
        "\n",
        "submission.to_csv(\"Predict_Sales_submit.csv\", index=False, header=True) \n"
      ],
      "execution_count": 30,
      "outputs": [
        {
          "output_type": "stream",
          "text": [
            "\n",
            "time elapsed:  0:04:46\n"
          ],
          "name": "stdout"
        }
      ]
    },
    {
      "cell_type": "code",
      "metadata": {
        "id": "pSUsi0Fj2eQy",
        "colab_type": "code",
        "colab": {}
      },
      "source": [
        "# files.download(\"Predict_Sales_submit.csv\")"
      ],
      "execution_count": 0,
      "outputs": []
    }
  ]
}